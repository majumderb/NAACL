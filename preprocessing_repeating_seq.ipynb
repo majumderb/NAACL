{
 "cells": [
  {
   "cell_type": "code",
   "execution_count": 81,
   "metadata": {},
   "outputs": [],
   "source": [
    "import pandas as pd\n",
    "\n",
    "maha_pt = pd.read_csv('sanskrit/combined_maha_pt.csv', header=0)\n",
    "nouns = pd.read_csv('sanskrit/nouns.csv', header=0)\n",
    "verbs = pd.read_csv('sanskrit/verbs.csv', header=0)"
   ]
  },
  {
   "cell_type": "code",
   "execution_count": 82,
   "metadata": {},
   "outputs": [],
   "source": [
    "nouns_keys = nouns['SL']\n",
    "nouns_values = nouns['Desc']\n",
    "\n",
    "nouns_dict = dict(zip(nouns_keys, nouns_values))\n",
    "\n",
    "verbs_keys = verbs['SL']\n",
    "verbs_values = verbs['Desc']\n",
    "\n",
    "verbs_dict = dict(zip(verbs_keys, verbs_values))"
   ]
  },
  {
   "cell_type": "code",
   "execution_count": 83,
   "metadata": {
    "collapsed": true
   },
   "outputs": [],
   "source": [
    "'''returns a dictionary'''\n",
    "\n",
    "def process_repeat_seq(sen):\n",
    "    sen_list = sen.split(',')\n",
    "    unique_token = set(sen_list)\n",
    "    \n",
    "    rep_dict = {}\n",
    "    for token in unique_token:\n",
    "        indices = [i for i, x in enumerate(sen_list) if x == token]\n",
    "        if len(indices) > 1: \n",
    "            rep_dict.update({token: indices})\n",
    "    return rep_dict"
   ]
  },
  {
   "cell_type": "code",
   "execution_count": 84,
   "metadata": {
    "collapsed": true
   },
   "outputs": [],
   "source": [
    "'''returns True or False'''\n",
    "\n",
    "def count_multiple_verb(sen):\n",
    "    sen_list = sen.split(',')\n",
    "    unique_token = set(sen_list)\n",
    "    verb_list = []\n",
    "    for key in unique_token:\n",
    "        if key in verbs_dict.keys():\n",
    "            verb_list.append(key)\n",
    "    \n",
    "    return len(verb_list)"
   ]
  },
  {
   "cell_type": "code",
   "execution_count": 85,
   "metadata": {},
   "outputs": [],
   "source": [
    "'''returns a dictionary'''\n",
    "\n",
    "def repeat_nouns(sen):\n",
    "    sen_list = sen.split(',')\n",
    "    noun_encoded_list = []\n",
    "    for key in sen_list:\n",
    "        if key in nouns_dict.keys():\n",
    "            noun_encoded_list.append(nouns_dict[key].split()[1])\n",
    "        else: 'NA'\n",
    "    \n",
    "    unique_nouns = set(noun_encoded_list)\n",
    "    \n",
    "    rep_noun_dict = {}\n",
    "    for token in unique_nouns:\n",
    "        if token != 'NA':\n",
    "            indices = [i for i, x in enumerate(noun_encoded_list) if x == token]\n",
    "            if len(indices) > 1: \n",
    "                rep_noun_dict.update({token: indices})\n",
    "    return rep_noun_dict"
   ]
  },
  {
   "cell_type": "markdown",
   "metadata": {},
   "source": [
    "Task1 -  multiple verb\n",
    "\n",
    "format: [sentID, sent, no_of_verbs]"
   ]
  },
  {
   "cell_type": "code",
   "execution_count": 86,
   "metadata": {},
   "outputs": [],
   "source": [
    "count_verb_final_list = []\n",
    "for index, row in maha_pt.iterrows():\n",
    "    temp_list = []\n",
    "    temp_list.append(row['sentID'])\n",
    "    temp_list.append(row['sent'])\n",
    "    temp_list.append(count_multiple_verb(row['sent']))\n",
    "    count_verb_final_list.append(temp_list)"
   ]
  },
  {
   "cell_type": "code",
   "execution_count": 87,
   "metadata": {},
   "outputs": [
    {
     "data": {
      "text/plain": [
       "['mbh12_26165.xml', 'n1s,i,x6s,n1s,iic,m3s,n1s,n1s,fut a3s', 1]"
      ]
     },
     "execution_count": 87,
     "metadata": {},
     "output_type": "execute_result"
    }
   ],
   "source": [
    "count_verb_final_list[0]"
   ]
  },
  {
   "cell_type": "markdown",
   "metadata": {},
   "source": [
    "Task2 -  repeating seq\n",
    "\n",
    "format: [sentID, sent, dicttionary{token1: list of indeces, token2: list of indices}]"
   ]
  },
  {
   "cell_type": "code",
   "execution_count": 88,
   "metadata": {},
   "outputs": [],
   "source": [
    "rep_seq_final_list = []\n",
    "for index, row in maha_pt.iterrows():\n",
    "    temp_list = []\n",
    "    temp_list.append(row['sentID'])\n",
    "    temp_list.append(row['sent'])\n",
    "    temp_list.append(process_repeat_seq(row['sent']))\n",
    "    rep_seq_final_list.append(temp_list)"
   ]
  },
  {
   "cell_type": "code",
   "execution_count": 89,
   "metadata": {},
   "outputs": [
    {
     "data": {
      "text/plain": [
       "['mbh12_26165.xml',\n",
       " 'n1s,i,x6s,n1s,iic,m3s,n1s,n1s,fut a3s',\n",
       " {'n1s': [0, 3, 6, 7]}]"
      ]
     },
     "execution_count": 89,
     "metadata": {},
     "output_type": "execute_result"
    }
   ],
   "source": [
    "rep_seq_final_list[0]"
   ]
  },
  {
   "cell_type": "markdown",
   "metadata": {},
   "source": [
    "Task3 -  repeating nouns\n",
    "\n",
    "format: [sentID, sent, dicttionary{case1: list of indeces, case2: list of indices}]"
   ]
  },
  {
   "cell_type": "code",
   "execution_count": 90,
   "metadata": {
    "collapsed": true
   },
   "outputs": [],
   "source": [
    "rep_noun_final_list = []\n",
    "for index, row in maha_pt.iterrows():\n",
    "    temp_list = []\n",
    "    temp_list.append(row['sentID'])\n",
    "    temp_list.append(row['sent'])\n",
    "    temp_list.append(repeat_nouns(row['sent']))\n",
    "    rep_noun_final_list.append(temp_list)"
   ]
  },
  {
   "cell_type": "code",
   "execution_count": 91,
   "metadata": {},
   "outputs": [
    {
     "data": {
      "text/plain": [
       "['mbh12_26165.xml',\n",
       " 'n1s,i,x6s,n1s,iic,m3s,n1s,n1s,fut a3s',\n",
       " {'nominative': [0, 1, 3, 4]}]"
      ]
     },
     "execution_count": 91,
     "metadata": {},
     "output_type": "execute_result"
    }
   ],
   "source": [
    "rep_noun_final_list[0]"
   ]
  },
  {
   "cell_type": "code",
   "execution_count": null,
   "metadata": {
    "collapsed": true
   },
   "outputs": [],
   "source": []
  }
 ],
 "metadata": {
  "kernelspec": {
   "display_name": "Python 3",
   "language": "python",
   "name": "python3"
  },
  "language_info": {
   "codemirror_mode": {
    "name": "ipython",
    "version": 3
   },
   "file_extension": ".py",
   "mimetype": "text/x-python",
   "name": "python",
   "nbconvert_exporter": "python",
   "pygments_lexer": "ipython3",
   "version": "3.6.1"
  }
 },
 "nbformat": 4,
 "nbformat_minor": 2
}
