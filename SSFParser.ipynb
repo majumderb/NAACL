{
 "cells": [
  {
   "cell_type": "code",
   "execution_count": 1,
   "metadata": {
    "collapsed": true
   },
   "outputs": [],
   "source": [
    "import re;\n",
    "def readSentence(ssfFileId):\n",
    "\tlst=[];\n",
    "\tfor line in ssfFileId:\n",
    "\t\t#print(line);\n",
    "\t\tm=re.match(\"</Sentence>\\n\",line);\n",
    "\t\tif m:\n",
    "\t\t\tbreak;\n",
    "\t\telse: \n",
    "\t\t\tlst.extend([line]);\n",
    "\t#print(lst);\t\n",
    "\treturn lst;\n",
    "\n",
    "def getConnlofChunk(index,lst):\n",
    "\tpat= \"[1-9]+\\t*\\(\\(\\t*([A-Z]+)\\t*<fs\\t*name=\\'([A-Z1-9]+)\\'\\t*drel=\\'([k-z0-9]+):([A-Z]+)\\'>\\n\";\n",
    "\tprint(lst[index-1]);\n",
    "\tm=re.match(pat,lst[index-1]);\n",
    "\tif m:\n",
    "\t\tprint(m.group(1));\n",
    "\t\tchunkType=m.group(1);\n",
    "\t\tprint(m.group(2));\n",
    "\t\tchunkIs=m.group(2);\n",
    "\t\tprint(m.group(3));\n",
    "\t\trelType=m.group(3);\n",
    "\t\tattachEd=m.group(4);\n",
    "\t\t\n",
    "\tpat2=\"[1-9]+\\.[1-9]+\\t*([A-Za-z]+)\\t*([A-Z_]+)\\t*<fs[ ]*af=\\'([A-Za-z1-9,]+)\\'[ ]*name=\\'([A-Za-z]+)\\'>\\n\";\n",
    "\twhile True:\n",
    "\t\t\tindex=index+1;\n",
    "\t\t\tm=re.match(pat,lst[index-1]);\n",
    "\t\t\tif m:\n",
    "\t\t\t\tprint(m.group(1));\n",
    "\t\t\t\ttocken=m.group(1);\n",
    "\t\t\t\tprint(m.group(2));\n",
    "\t\t\t\tPoS=m.group(2);\n",
    "\t\t\t\tprint(m.group(3));\n",
    "\t\t\t\tPoS=m.group(3);\n",
    "\t\t\t\t\n",
    "\t\t\telse:\n",
    "\t\t\t\tbreak;\t\n",
    "\t\t\t\n",
    "\treturn;\n",
    "\n",
    "def getChunkIndex(lst):\n",
    "\tindex=0;\n",
    "\tindexLst=[];\n",
    "\tfor i in lst:\n",
    "\t\tm=re.search('[0-9]+\\t\\(\\(',i);\n",
    "\t\tindex=index+1;\n",
    "\t\tif m:\n",
    "\t\t\tindexLst.extend([index]);\n",
    "\t\t\t\n",
    "\tprint(indexLst);\n",
    "\t\t\t\n",
    "\treturn indexLst;\n",
    "\t\n",
    "def getConllofSentence(lst):\n",
    "\tconllList=[];\n",
    "\tchunkIndexLst=getChunkIndex(lst);\n",
    "\t\n",
    "\tfor element in chunkIndexLst:\n",
    "\t\tgetConnlofChunk(element,lst);\n",
    "        #conllList.extend(listofTockensConll);\n",
    "\n",
    "\tprint(conllList)\n",
    "\t\t\n",
    "\treturn;\n"
   ]
  },
  {
   "cell_type": "code",
   "execution_count": null,
   "metadata": {
    "collapsed": true
   },
   "outputs": [],
   "source": []
  }
 ],
 "metadata": {
  "kernelspec": {
   "display_name": "Python 3",
   "language": "python",
   "name": "python3"
  },
  "language_info": {
   "codemirror_mode": {
    "name": "ipython",
    "version": 3
   },
   "file_extension": ".py",
   "mimetype": "text/x-python",
   "name": "python",
   "nbconvert_exporter": "python",
   "pygments_lexer": "ipython3",
   "version": "3.6.1"
  }
 },
 "nbformat": 4,
 "nbformat_minor": 2
}
