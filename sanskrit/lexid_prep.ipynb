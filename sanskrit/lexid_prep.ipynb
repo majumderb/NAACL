{
 "cells": [
  {
   "cell_type": "code",
   "execution_count": 13,
   "metadata": {},
   "outputs": [
    {
     "data": {
      "text/plain": [
       "2624"
      ]
     },
     "execution_count": 13,
     "metadata": {},
     "output_type": "execute_result"
    }
   ],
   "source": [
    "import pandas as pd\n",
    "import numpy as np\n",
    "\n",
    "maha_pt = pd.read_csv('combined_maha_pt.csv', header=0)\n",
    "len(maha_pt.index)"
   ]
  },
  {
   "cell_type": "code",
   "execution_count": 6,
   "metadata": {
    "collapsed": true
   },
   "outputs": [],
   "source": [
    "def count_words(sen):\n",
    "    sen_list = sen.split(',')\n",
    "    return len(sen_list)"
   ]
  },
  {
   "cell_type": "code",
   "execution_count": 7,
   "metadata": {
    "collapsed": true
   },
   "outputs": [],
   "source": [
    "maha_pt['countWords'] = maha_pt['sent'].apply(count_words)"
   ]
  },
  {
   "cell_type": "code",
   "execution_count": 8,
   "metadata": {
    "scrolled": false
   },
   "outputs": [
    {
     "data": {
      "text/html": [
       "<div>\n",
       "<style>\n",
       "    .dataframe thead tr:only-child th {\n",
       "        text-align: right;\n",
       "    }\n",
       "\n",
       "    .dataframe thead th {\n",
       "        text-align: left;\n",
       "    }\n",
       "\n",
       "    .dataframe tbody tr th {\n",
       "        vertical-align: top;\n",
       "    }\n",
       "</style>\n",
       "<table border=\"1\" class=\"dataframe\">\n",
       "  <thead>\n",
       "    <tr style=\"text-align: right;\">\n",
       "      <th></th>\n",
       "      <th>sentID</th>\n",
       "      <th>sent</th>\n",
       "      <th>words</th>\n",
       "      <th>lexids</th>\n",
       "      <th>countWords</th>\n",
       "    </tr>\n",
       "  </thead>\n",
       "  <tbody>\n",
       "    <tr>\n",
       "      <th>0</th>\n",
       "      <td>mbh12_26165.xml</td>\n",
       "      <td>n1s,i,x6s,n1s,iic,m3s,n1s,n1s,fut a3s</td>\n",
       "      <td>etat,ca,te,toyam,vaqavAmuKa,saYjYitena,pIyamAn...</td>\n",
       "      <td>0,0,0,0,pn, ctp6,ctp3,adj ppr. ps.,0,0</td>\n",
       "      <td>9</td>\n",
       "    </tr>\n",
       "    <tr>\n",
       "      <th>1</th>\n",
       "      <td>mbh03_14648.xml</td>\n",
       "      <td>n2s,i,m1s,m1s,n5s,n5s,iic,i,i,ipf[1] a3s,i,pre...</td>\n",
       "      <td>etat,SrutvA,sa,kacCapaH,tasmAt,sarasaH,ut,TAya...</td>\n",
       "      <td>0,abs,0,0,0,0,preverb,abs,preverb,0,0,0,0,0,0,0</td>\n",
       "      <td>16</td>\n",
       "    </tr>\n",
       "    <tr>\n",
       "      <th>3</th>\n",
       "      <td>mbh12_26044.xml</td>\n",
       "      <td>m2p,m1s,prf a3s,m1s,m1s,n2s,pre[4] m3s,m1s</td>\n",
       "      <td>tAn,brahma,uvAca,fziH,BArgavaH,tapaH,tapyate,d...</td>\n",
       "      <td>0,pn,0,adj,adj,0,0,pn</td>\n",
       "      <td>8</td>\n",
       "    </tr>\n",
       "    <tr>\n",
       "      <th>4</th>\n",
       "      <td>mbh03_14642.xml</td>\n",
       "      <td>m1s,x2p,ipf[2] a3s,pre[2] a3s,i,i,i,n7s,m1s,n1...</td>\n",
       "      <td>sa,naH,abravIt,asti,Kalu,iha,eva,sarasi,akUpar...</td>\n",
       "      <td>0,0,0,0,0,0,0,0,pn,0,0,preverb,0</td>\n",
       "      <td>13</td>\n",
       "    </tr>\n",
       "    <tr>\n",
       "      <th>5</th>\n",
       "      <td>mbh03_14557.xml</td>\n",
       "      <td>m3p,x1s,ipv[2] a2s,m6s,m1s,m1s,x6s,m1d,i,x6s,m...</td>\n",
       "      <td>tEH,tvam,yAhi,kzatriyasya,eza,vAhaH,mama,vAmyO...</td>\n",
       "      <td>0,0,0,0,0,0,0,0,0,0,0,0,0</td>\n",
       "      <td>13</td>\n",
       "    </tr>\n",
       "  </tbody>\n",
       "</table>\n",
       "</div>"
      ],
      "text/plain": [
       "            sentID                                               sent  \\\n",
       "0  mbh12_26165.xml              n1s,i,x6s,n1s,iic,m3s,n1s,n1s,fut a3s   \n",
       "1  mbh03_14648.xml  n2s,i,m1s,m1s,n5s,n5s,iic,i,i,ipf[1] a3s,i,pre...   \n",
       "3  mbh12_26044.xml         m2p,m1s,prf a3s,m1s,m1s,n2s,pre[4] m3s,m1s   \n",
       "4  mbh03_14642.xml  m1s,x2p,ipf[2] a3s,pre[2] a3s,i,i,i,n7s,m1s,n1...   \n",
       "5  mbh03_14557.xml  m3p,x1s,ipv[2] a2s,m6s,m1s,m1s,x6s,m1d,i,x6s,m...   \n",
       "\n",
       "                                               words  \\\n",
       "0  etat,ca,te,toyam,vaqavAmuKa,saYjYitena,pIyamAn...   \n",
       "1  etat,SrutvA,sa,kacCapaH,tasmAt,sarasaH,ut,TAya...   \n",
       "3  tAn,brahma,uvAca,fziH,BArgavaH,tapaH,tapyate,d...   \n",
       "4  sa,naH,abravIt,asti,Kalu,iha,eva,sarasi,akUpar...   \n",
       "5  tEH,tvam,yAhi,kzatriyasya,eza,vAhaH,mama,vAmyO...   \n",
       "\n",
       "                                            lexids  countWords  \n",
       "0           0,0,0,0,pn, ctp6,ctp3,adj ppr. ps.,0,0           9  \n",
       "1  0,abs,0,0,0,0,preverb,abs,preverb,0,0,0,0,0,0,0          16  \n",
       "3                            0,pn,0,adj,adj,0,0,pn           8  \n",
       "4                 0,0,0,0,0,0,0,0,pn,0,0,preverb,0          13  \n",
       "5                        0,0,0,0,0,0,0,0,0,0,0,0,0          13  "
      ]
     },
     "execution_count": 8,
     "metadata": {},
     "output_type": "execute_result"
    }
   ],
   "source": [
    "workingdf = maha_pt[maha_pt['countWords'] > 3 ]\n",
    "workingdf.head()"
   ]
  },
  {
   "cell_type": "code",
   "execution_count": 12,
   "metadata": {
    "scrolled": true
   },
   "outputs": [
    {
     "data": {
      "text/plain": [
       "2226"
      ]
     },
     "execution_count": 12,
     "metadata": {},
     "output_type": "execute_result"
    }
   ],
   "source": [
    "maha_pt_with_verb = pd.read_csv('maha_pt_with_noun_and_verb_count.csv', header=0)\n",
    "maha_pt_with_verb.head()\n",
    "len(maha_pt_with_verb.index)"
   ]
  },
  {
   "cell_type": "code",
   "execution_count": 18,
   "metadata": {},
   "outputs": [],
   "source": [
    "workingdf2 = pd.merge(workingdf, maha_pt_with_verb, left_on='sentID', right_on='sentID', how = 'left')\n",
    "workingdf2.head()\n",
    "workingdf2 = workingdf2[['sentID', 'words_x', 'sent_x', 'lexids']]\n",
    "workingdf2.columns = ['sentID', 'words', 'sent', 'lexids']"
   ]
  },
  {
   "cell_type": "code",
   "execution_count": 19,
   "metadata": {
    "collapsed": true
   },
   "outputs": [],
   "source": [
    "def process_sen(sen):\n",
    "    sen_list = sen.split(',')\n",
    "    return sen_list"
   ]
  },
  {
   "cell_type": "code",
   "execution_count": 20,
   "metadata": {},
   "outputs": [],
   "source": [
    "workingdf2['lexids'] = workingdf2['lexids'].apply(process_sen)\n",
    "workingdf2['words'] = workingdf2['words'].apply(process_sen)"
   ]
  },
  {
   "cell_type": "code",
   "execution_count": 21,
   "metadata": {},
   "outputs": [
    {
     "name": "stdout",
     "output_type": "stream",
     "text": [
      "{'adj ppr. [1] md.', ' cab', 'gerundive_tavya', 'adj_comp', 'ctp_na', 'noun_action', 'cau ppf_actn', 'adj_ctp_upapada', 'noun_ctp_dvigu', 'pron_p1', 'ppr. [2] md.', 'adj_ctp_prAdi', 'gati', 'prap[1]', 'noun_pn', 'ppa.', 'ppr. [1] md.', 'pfp', 'pcl_rel', ' ctp4', ' adj ctp3', 'vt8am', 'indefinite adj', 'prap', 'num_cardinal', 'cdvigu', 'adj pfp. [1]', 'vt6am', 'ppr. ps.', 'noun_ck', ' ctp upapada', ' ctp3', 'pfp.', 'ca. pfp. [3]', 'ctp6', 'pp. ctp5', 'pap', 'noun_gerundive_ya', ' adj cab', ' adj cbv', 'adv', 'prap_desid', 'adj ctp2', 'adv_rel', 'vt9am', 'noun_pn_ctp_dvigu', 'ctp upapada', 'iic.', 'gerundive_tavya_cau', 'vt1m 6am', 'adj_ctp_gati', 'cvi', 'gerundive_ya', 'pfap', 'vt3am', 'vt6a', 'adj ppr. [9] ac.', 'pron_int', ' ck', 'noun_pn_ctp3', 'adv_dem', 'adj ppr. [5] ac.', 'noun_ctp_upapada', 'adj ck', 'prmp[10]', 'ctp7', 'pron_dem', '\\xa0preverb', 'noun_pn_cbv', 'ca. pfp. [1]', 'adj_cdi', 'adj cbv', 'ppr. [1] ac.', 'vt4m', 'pcl_int', 'int. ppr. md.', ' ctp5', 'ctp2', 'pcl_kp', 'adv_cbv', ' ctp2', 'noun_ctp6', 'vt10m', ' cbv', 'ctp5', 'noun_ctp5', 'patronymic', 'ppr. [4] ac.', 'vi2a', ' cpt3', 'vt6a m', 'pcl_conj', 'abs', 'vi10am', 'pfp. [1]', 'adv_reflexive', 'vi6a', 'adv_int', 'pp. cd', ' ctp na', 'prap[6]', 'adj_ctp2', 'vi1m', 'vt10a', 'ctp_upapada', 'adj ctp prAdi', 'adj ca. pp.', 'ca. ppa.', 'adj ctp3', 'vi1a', 'pcl', 'vi4a', 'vt3a', ' ctp7', 'bv', 'noun_ctp_na', 'prpp', 'adj ctp7', 'ppf. ac.', 'prap[2]', 'pap_cau', ' ctp prAdi', 'noun_pn_ctp_upapada', 'prmp[8]', 'adj_int', 'ppf actn', 'adj ctp6', 'pap_caus', 'vi5a', 'abb', 'adj_ctp5', 'gerundive', 'noun', 'noun_ctp_prAdi', 'adj ppr. ps.', 'ctp prAdi', 'adj ctp upapada', 'ppr. [10] ac.', 'adj cds', 'noun_action_ppf_caus', 'ppp_desid', 'noun ctp prAdi', 'vt1a 6am', 'adj ppr. [1] ac.', ' cd', 'gerundive_anIya_cau', 'adv_other', ' adv cab', 'des ppr. [1] md.', 'prap[10]', 'agent noun', 'abs c', 'noun_ctp_gati', 'noun_pn_ctp6', 'vt6m 1m', 'adj ctp4', 'adverb', 'prap[4]', 'ppf. md.', 'root', 'adv_pron', 'ctp3', 'ppr. [6] ac.', 'pp. ctp prAdi', 'ppf_actn', 'adj_ctp7', 'vt4am', 'prap[8]', 'pcl_disj', 'ctp_prAdi', '1st pron', 'adj_dem', 'num', 'pn', 'vt5am', 'pron_p2', 'ctp na', 'adv cab', 'adj cpt na', 'adj cd', 'pp. ctp na', 'vt4a', 'adj_ctp3', 'v1a', 'vi3a', 'noun_ctp7', 'gerundive_ya_caus', 'adj_cbv', 'gerundive_ya_cau', 'noun_ctp2', 'pfp. [2]', 'prap[5]', 'ppr. [2] ac.', 'pp.', 'ca. pp.', 'ppp', 'pron_rel', 'vt1m', 'vt7a', 'prmp_cau', 'vt9a', 'noun_cbv', 'cd', 'noun_cdi', 'vt2am', 'ctp4', 'pp. ctp3', 'preveb', 'ctp_dvigu', 'ppp_caus', 'vt9a 4a', 'adj_ck', 'noun_pn_ck', 'ifc', 'vt7am', 'adh', 'pcl_neg', 'ctp3 pp.', 'pcl_sub', 'ca. pfp. [2]', 'pn ctp6', 'noun_ctp4', 'ck', ' adj_cbv xxxxx', 'preverb', 'adj ppr. [10] md.', 'cab', 'noun_cab', 'vt6am 1m', 'adj pp.', 'pron', 'prmp[1]', 'vt2a', 'infinitive', 'vA', 'adv_cab', 'adj pn', 'vt1am', 'noun_cds', 'vi1a 4a', 'i', ' ppr. [2] md.', 'adj pp. ctp3', 'noun_ctp3', 'cau abs', 'pv', 'vt8a', 'vt10am', ' gati', 'vt5a', 'num_ordinal', 'adj_rel', 'inf', 'prap_cau', 'prap_caus', 'pcl_post', 'gerundive_anIya', 'v2m', ' ctp6', 'ppp_cau', 'onom', 'vi6am', 'vt1a', 'pron_reflexive', 'vi4m', 'v2a', 'cbv', 'adj pfp', 'adj', 'iic', 'adj_pron', 'cdi', 'adj_ctp6', 'dem_adv', 'cds', 'adj ctp na', 'ctp_gati', 'vt5a 9am'}\n"
     ]
    }
   ],
   "source": [
    "all_lexids = []\n",
    "for x in workingdf2.lexids:\n",
    "        all_lexids = all_lexids + x\n",
    "unique_lexids = set(all_lexids)\n",
    "unique_lexids.remove('')\n",
    "unique_lexids.remove('0')\n",
    "len(unique_lexids)\n",
    "print(unique_lexids)"
   ]
  },
  {
   "cell_type": "code",
   "execution_count": 22,
   "metadata": {},
   "outputs": [
    {
     "name": "stdout",
     "output_type": "stream",
     "text": [
      "ppa.\n",
      "vt9am\n",
      "ca. pfp. [1]\n",
      " ctp prAdi\n",
      " cd\n",
      "ca. pp.\n",
      "vt7am\n"
     ]
    }
   ],
   "source": [
    "master_lexid = []\n",
    "\n",
    "for lexid in unique_lexids:\n",
    "        templist = []\n",
    "        i = 0\n",
    "        for row in workingdf2.lexids:\n",
    "            if lexid in row:\n",
    "                templist.append(i)\n",
    "            i += 1\n",
    "        tempdf = workingdf2.iloc[templist,:]\n",
    "        tempdf.sample(frac=1)\n",
    "        tempdf = tempdf.reset_index(drop=True)\n",
    "        try:\n",
    "            if len(tempdf.index) > 1:\n",
    "                master_lexid.append([lexid, tempdf.sentID[0], tempdf.words[0][tempdf.lexids[0].index(lexid)], tempdf.words[0]])\n",
    "                master_lexid.append([lexid, tempdf.sentID[1], tempdf.words[1][tempdf.lexids[1].index(lexid)], tempdf.words[1]])\n",
    "            else:\n",
    "                master_lexid.append([lexid, tempdf.sentID[0], tempdf.words[0][tempdf.lexids[0].index(lexid)], tempdf.words[0]])\n",
    "        except Exception:\n",
    "                print(lexid)\n",
    "df = pd.DataFrame(master_lexid, columns=['lexid','filename', 'word', 'sentence'])"
   ]
  },
  {
   "cell_type": "code",
   "execution_count": 23,
   "metadata": {
    "collapsed": true
   },
   "outputs": [],
   "source": [
    "df.to_csv(\"lexids_no_verb.csv\", index=False, encoding='utf-8')"
   ]
  },
  {
   "cell_type": "code",
   "execution_count": null,
   "metadata": {
    "collapsed": true
   },
   "outputs": [],
   "source": []
  }
 ],
 "metadata": {
  "kernelspec": {
   "display_name": "Python 3",
   "language": "python",
   "name": "python3"
  },
  "language_info": {
   "codemirror_mode": {
    "name": "ipython",
    "version": 3
   },
   "file_extension": ".py",
   "mimetype": "text/x-python",
   "name": "python",
   "nbconvert_exporter": "python",
   "pygments_lexer": "ipython3",
   "version": "3.6.1"
  }
 },
 "nbformat": 4,
 "nbformat_minor": 2
}
