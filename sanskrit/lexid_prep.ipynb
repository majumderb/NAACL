{
 "cells": [
  {
   "cell_type": "code",
   "execution_count": 70,
   "metadata": {
    "collapsed": true
   },
   "outputs": [],
   "source": [
    "import pandas as pd\n",
    "import numpy as np\n",
    "\n",
    "maha_pt = pd.read_csv('combined_maha_pt.csv', header=0)"
   ]
  },
  {
   "cell_type": "code",
   "execution_count": 71,
   "metadata": {
    "collapsed": true
   },
   "outputs": [],
   "source": [
    "def count_words(sen):\n",
    "    sen_list = sen.split(',')\n",
    "    return len(sen_list)"
   ]
  },
  {
   "cell_type": "code",
   "execution_count": 72,
   "metadata": {
    "collapsed": true
   },
   "outputs": [],
   "source": [
    "maha_pt['countWords'] = maha_pt['sent'].apply(count_words)"
   ]
  },
  {
   "cell_type": "code",
   "execution_count": 73,
   "metadata": {
    "scrolled": true
   },
   "outputs": [
    {
     "data": {
      "text/html": [
       "<div>\n",
       "<style>\n",
       "    .dataframe thead tr:only-child th {\n",
       "        text-align: right;\n",
       "    }\n",
       "\n",
       "    .dataframe thead th {\n",
       "        text-align: left;\n",
       "    }\n",
       "\n",
       "    .dataframe tbody tr th {\n",
       "        vertical-align: top;\n",
       "    }\n",
       "</style>\n",
       "<table border=\"1\" class=\"dataframe\">\n",
       "  <thead>\n",
       "    <tr style=\"text-align: right;\">\n",
       "      <th></th>\n",
       "      <th>sentID</th>\n",
       "      <th>sent</th>\n",
       "      <th>words</th>\n",
       "      <th>lexids</th>\n",
       "      <th>countWords</th>\n",
       "    </tr>\n",
       "  </thead>\n",
       "  <tbody>\n",
       "    <tr>\n",
       "      <th>0</th>\n",
       "      <td>mbh12_26165.xml</td>\n",
       "      <td>n1s,i,x6s,n1s,iic,m3s,n1s,n1s,fut a3s</td>\n",
       "      <td>etat,ca,te,toyam,vaqavAmuKa,saYjYitena,pIyamAn...</td>\n",
       "      <td>0,0,0,0,pn, ctp6,ctp3,adj ppr. ps.,0,0</td>\n",
       "      <td>9</td>\n",
       "    </tr>\n",
       "    <tr>\n",
       "      <th>1</th>\n",
       "      <td>mbh03_14648.xml</td>\n",
       "      <td>n2s,i,m1s,m1s,n5s,n5s,iic,i,i,ipf[1] a3s,i,pre...</td>\n",
       "      <td>etat,SrutvA,sa,kacCapaH,tasmAt,sarasaH,ut,TAya...</td>\n",
       "      <td>0,abs,0,0,0,0,preverb,abs,preverb,0,0,0,0,0,0,0</td>\n",
       "      <td>16</td>\n",
       "    </tr>\n",
       "    <tr>\n",
       "      <th>3</th>\n",
       "      <td>mbh12_26044.xml</td>\n",
       "      <td>m2p,m1s,prf a3s,m1s,m1s,n2s,pre[4] m3s,m1s</td>\n",
       "      <td>tAn,brahma,uvAca,fziH,BArgavaH,tapaH,tapyate,d...</td>\n",
       "      <td>0,pn,0,adj,adj,0,0,pn</td>\n",
       "      <td>8</td>\n",
       "    </tr>\n",
       "    <tr>\n",
       "      <th>4</th>\n",
       "      <td>mbh03_14642.xml</td>\n",
       "      <td>m1s,x2p,ipf[2] a3s,pre[2] a3s,i,i,i,n7s,m1s,n1...</td>\n",
       "      <td>sa,naH,abravIt,asti,Kalu,iha,eva,sarasi,akUpar...</td>\n",
       "      <td>0,0,0,0,0,0,0,0,pn,0,0,preverb,0</td>\n",
       "      <td>13</td>\n",
       "    </tr>\n",
       "    <tr>\n",
       "      <th>5</th>\n",
       "      <td>mbh03_14557.xml</td>\n",
       "      <td>m3p,x1s,ipv[2] a2s,m6s,m1s,m1s,x6s,m1d,i,x6s,m...</td>\n",
       "      <td>tEH,tvam,yAhi,kzatriyasya,eza,vAhaH,mama,vAmyO...</td>\n",
       "      <td>0,0,0,0,0,0,0,0,0,0,0,0,0</td>\n",
       "      <td>13</td>\n",
       "    </tr>\n",
       "  </tbody>\n",
       "</table>\n",
       "</div>"
      ],
      "text/plain": [
       "            sentID                                               sent  \\\n",
       "0  mbh12_26165.xml              n1s,i,x6s,n1s,iic,m3s,n1s,n1s,fut a3s   \n",
       "1  mbh03_14648.xml  n2s,i,m1s,m1s,n5s,n5s,iic,i,i,ipf[1] a3s,i,pre...   \n",
       "3  mbh12_26044.xml         m2p,m1s,prf a3s,m1s,m1s,n2s,pre[4] m3s,m1s   \n",
       "4  mbh03_14642.xml  m1s,x2p,ipf[2] a3s,pre[2] a3s,i,i,i,n7s,m1s,n1...   \n",
       "5  mbh03_14557.xml  m3p,x1s,ipv[2] a2s,m6s,m1s,m1s,x6s,m1d,i,x6s,m...   \n",
       "\n",
       "                                               words  \\\n",
       "0  etat,ca,te,toyam,vaqavAmuKa,saYjYitena,pIyamAn...   \n",
       "1  etat,SrutvA,sa,kacCapaH,tasmAt,sarasaH,ut,TAya...   \n",
       "3  tAn,brahma,uvAca,fziH,BArgavaH,tapaH,tapyate,d...   \n",
       "4  sa,naH,abravIt,asti,Kalu,iha,eva,sarasi,akUpar...   \n",
       "5  tEH,tvam,yAhi,kzatriyasya,eza,vAhaH,mama,vAmyO...   \n",
       "\n",
       "                                            lexids  countWords  \n",
       "0           0,0,0,0,pn, ctp6,ctp3,adj ppr. ps.,0,0           9  \n",
       "1  0,abs,0,0,0,0,preverb,abs,preverb,0,0,0,0,0,0,0          16  \n",
       "3                            0,pn,0,adj,adj,0,0,pn           8  \n",
       "4                 0,0,0,0,0,0,0,0,pn,0,0,preverb,0          13  \n",
       "5                        0,0,0,0,0,0,0,0,0,0,0,0,0          13  "
      ]
     },
     "execution_count": 73,
     "metadata": {},
     "output_type": "execute_result"
    }
   ],
   "source": [
    "workingdf = maha_pt[maha_pt['countWords'] > 3 ]\n",
    "workingdf.head()"
   ]
  },
  {
   "cell_type": "code",
   "execution_count": 74,
   "metadata": {
    "collapsed": true
   },
   "outputs": [],
   "source": [
    "def process_sen(sen):\n",
    "    sen_list = sen.split(',')\n",
    "    return sen_list"
   ]
  },
  {
   "cell_type": "code",
   "execution_count": 75,
   "metadata": {},
   "outputs": [],
   "source": [
    "workingdf2 = workingdf"
   ]
  },
  {
   "cell_type": "code",
   "execution_count": 76,
   "metadata": {},
   "outputs": [
    {
     "name": "stderr",
     "output_type": "stream",
     "text": [
      "/Users/bpm0008/anaconda3/lib/python3.6/site-packages/ipykernel_launcher.py:1: SettingWithCopyWarning: \n",
      "A value is trying to be set on a copy of a slice from a DataFrame.\n",
      "Try using .loc[row_indexer,col_indexer] = value instead\n",
      "\n",
      "See the caveats in the documentation: http://pandas.pydata.org/pandas-docs/stable/indexing.html#indexing-view-versus-copy\n",
      "  \"\"\"Entry point for launching an IPython kernel.\n",
      "/Users/bpm0008/anaconda3/lib/python3.6/site-packages/ipykernel_launcher.py:2: SettingWithCopyWarning: \n",
      "A value is trying to be set on a copy of a slice from a DataFrame.\n",
      "Try using .loc[row_indexer,col_indexer] = value instead\n",
      "\n",
      "See the caveats in the documentation: http://pandas.pydata.org/pandas-docs/stable/indexing.html#indexing-view-versus-copy\n",
      "  \n"
     ]
    }
   ],
   "source": [
    "workingdf2['lexids'] = workingdf2['lexids'].apply(process_sen)\n",
    "workingdf2['words'] = workingdf2['words'].apply(process_sen)"
   ]
  },
  {
   "cell_type": "code",
   "execution_count": 83,
   "metadata": {},
   "outputs": [
    {
     "name": "stdout",
     "output_type": "stream",
     "text": [
      "{'preveb', 'inf', 'adj_ctp2', 'adverb', 'noun_ck', ' ctp5', 'vt9am', 'adj ctp7', 'pcl_disj', 'vi5a', 'dem_adv', 'ca. pfp. [1]', ' ppr. [2] md.', 'vt4m', 'ppp', ' ck', 'ca. pfp. [3]', 'prpp', 'noun_ctp5', 'cau abs', 'indefinite adj', 'vt10am', 'adj ppr. [10] md.', 'pn', 'ctp4', 'vt3a', 'adv_dem', 'ppf actn', 'noun_pn_ctp3', 'prap_desid', 'iic.', 'noun_cdi', 'patronymic', 'prap[10]', 'pron_dem', 'gerundive_anIya', 'adj ctp3', 'ppr. [2] ac.', 'gerundive', ' ctp7', 'iic', 'ppr. [1] md.', 'adj_dem', 'vA', ' adj cab', 'pcl_conj', 'cbv', 'pcl_neg', 'ppr. [6] ac.', 'vi2a', 'vt6a m', 'noun_pn_ctp_dvigu', 'adj_ctp_gati', 'pp. ctp na', 'prmp[1]', ' cbv', 'ctp prAdi', 'cdvigu', 'cab', 'adj cd', 'noun_ctp_prAdi', 'vi6am', 'vi1a', 'vt7a', 'ctp_dvigu', 'pcl_kp', 'cdi', 'root', 'vi10am', 'pp. cd', 'pcl_post', 'noun_pn_ctp_upapada', 'adj pn', 'vi1a 4a', 'noun_pn_ck', 'int. ppr. md.', 'gerundive_anIya_cau', 'adj pp.', 'pp. ctp3', ' ctp upapada', 'vt1a', 'noun_pn', 'adv_cbv', 'vt2a', 'gerundive_ya', 'noun_ctp3', ' gati', 'noun_cab', 'pcl_rel', 'noun_action_ppf_caus', 'preverb', 'vi4m', 'ppa.', 'vt4a', 'pfp', 'cvi', 'noun_ctp_upapada', 'ppr. [2] md.', 'ppp_desid', 'noun_pn_ctp6', 'ppr. ps.', 'adj ca. pp.', 'noun_gerundive_ya', 'num_ordinal', 'abs c', 'prap[2]', 'vi1m', 'adj ppr. [1] ac.', 'adv cab', 'ctp6', 'pron_reflexive', 'vt3am', 'pap_caus', 'noun_ctp7', 'pron', 'ca. ppa.', 'adj_ctp6', 'ca. pp.', 'noun_ctp_dvigu', 'pcl', 'adj pp. ctp3', 'ppr. [10] ac.', 'adj_ctp_prAdi', 'ctp_gati', 'adj', 'adj ctp prAdi', 'abb', 'ppf. ac.', ' ctp na', 'adj ctp2', 'bv', 'vi6a', 'adj ctp na', 'ctp5', ' adv cab', 'vt8a', ' cpt3', 'adj ppr. [1] md.', 'gerundive_tavya', 'prap_cau', 'noun_ctp_na', 'vt1a 6am', 'vt9a 4a', 'ctp_upapada', 'pcl_int', 'adj ctp4', 'cds', ' ctp3', 'ck', ' adj cbv', 'adj_rel', ' cab', 'adv_int', ' ctp4', 'vt7am', 'adj_pron', 'infinitive', 'ca. pfp. [2]', 'vt6m 1m', 'ctp_na', 'v2m', 'pfp. [2]', 'vt5a', 'vt1m 6am', 'pron_p1', 'noun_ctp2', 'adj cbv', 'ctp7', 'onom', 'ctp3', 'vt6am 1m', 'ppr. [1] ac.', 'adj cds', 'noun_ctp_gati', 'adj_ck', '1st pron', '\\xa0preverb', 'vt6am', 'adv_cab', 'vt1am', 'adj ck', ' cd', 'i', 'noun_action', 'vt9a', 'prap_caus', 'pcl_sub', 'gerundive_tavya_cau', 'adj_ctp_upapada', 'prap[4]', 'vt10m', 'prmp_cau', 'pap', 'adj ppr. ps.', 'prap', 'ppf. md.', 'noun', 'noun_ctp4', 'vt6a', 'adj ctp upapada', 'pp.', 'ctp2', 'adj ppr. [5] ac.', 'abs', 'vt2am', 'adj ppr. [9] ac.', 'noun_cbv', 'v2a', 'ctp na', 'ifc', 'vt8am', 'pfp. [1]', 'vt10a', 'vt4am', 'ppp_cau', 'pron_int', 'adj_cbv', ' ctp2', 'adj_ctp5', 'prap[5]', 'adj pfp. [1]', 'gerundive_ya_caus', 'adj pfp', 'adj ctp6', 'pfp.', 'prap[8]', 'ctp_prAdi', ' adj_cbv xxxxx', 'prmp[10]', 'adv', 'ppr. [4] ac.', 'pv', 'des ppr. [1] md.', 'pp. ctp prAdi', 'prmp[8]', 'adj_int', 'adv_rel', 'vi3a', ' adj ctp3', 'pap_cau', 'adj_ctp7', 'prap[6]', 'pron_rel', 'vt1m', 'num_cardinal', 'adv_pron', 'adj_ctp3', 'adv_reflexive', 'cau ppf_actn', 'gati', 'ctp3 pp.', 'v1a', 'vt5am', 'pp. ctp5', 'agent noun', 'adj_cdi', 'noun ctp prAdi', ' ctp prAdi', 'pn ctp6', 'noun_ctp6', 'adj cpt na', 'vi4a', 'gerundive_ya_cau', 'cd', 'num', 'ppp_caus', 'vt5a 9am', 'ctp upapada', 'pron_p2', 'pfap', 'adj_comp', 'noun_cds', 'prap[1]', 'adv_other', 'noun_pn_cbv', 'adh', ' ctp6', 'ppf_actn'}\n"
     ]
    }
   ],
   "source": [
    "all_lexids = []\n",
    "for x in workingdf2.lexids:\n",
    "        all_lexids = all_lexids + x\n",
    "unique_lexids = set(all_lexids)\n",
    "unique_lexids.remove('')\n",
    "unique_lexids.remove('0')\n",
    "len(unique_lexids)\n",
    "print(unique_lexids)"
   ]
  },
  {
   "cell_type": "code",
   "execution_count": 106,
   "metadata": {},
   "outputs": [
    {
     "name": "stdout",
     "output_type": "stream",
     "text": [
      "vt9am\n",
      "ca. pfp. [1]\n",
      "ppa.\n",
      "ca. pp.\n",
      "vt7am\n",
      " cd\n",
      " ctp prAdi\n"
     ]
    }
   ],
   "source": [
    "master_lexid = []\n",
    "\n",
    "for lexid in unique_lexids:\n",
    "        templist = []\n",
    "        i = 0\n",
    "        for row in workingdf2.lexids:\n",
    "            if lexid in row:\n",
    "                templist.append(i)\n",
    "            i += 1\n",
    "        tempdf = workingdf2.iloc[templist,:]\n",
    "        tempdf.sample(frac=1)\n",
    "        tempdf = tempdf.reset_index(drop=True)\n",
    "        try:\n",
    "            if len(tempdf.index) > 1:\n",
    "                master_lexid.append([lexid, tempdf.sentID[0], tempdf.words[0], tempdf.words[0][tempdf.lexids[0].index(lexid)]])\n",
    "                master_lexid.append([lexid, tempdf.sentID[1], tempdf.words[1], tempdf.words[1][tempdf.lexids[1].index(lexid)]])\n",
    "            else:\n",
    "                master_lexid.append([lexid, tempdf.sentID[0], tempdf.words[0], tempdf.words[0][tempdf.lexids[0].index(lexid)]])\n",
    "        except Exception:\n",
    "                print(lexid)\n",
    "df = pd.DataFrame(master_lexid, columns=['lexid','filename', 'sentence', 'word'])"
   ]
  },
  {
   "cell_type": "code",
   "execution_count": 108,
   "metadata": {},
   "outputs": [],
   "source": [
    "df.to_csv(\"lexids.csv\", index=False, encoding='utf-8')"
   ]
  },
  {
   "cell_type": "code",
   "execution_count": null,
   "metadata": {
    "collapsed": true
   },
   "outputs": [],
   "source": []
  }
 ],
 "metadata": {
  "kernelspec": {
   "display_name": "Python 3",
   "language": "python",
   "name": "python3"
  },
  "language_info": {
   "codemirror_mode": {
    "name": "ipython",
    "version": 3
   },
   "file_extension": ".py",
   "mimetype": "text/x-python",
   "name": "python",
   "nbconvert_exporter": "python",
   "pygments_lexer": "ipython3",
   "version": "3.6.1"
  }
 },
 "nbformat": 4,
 "nbformat_minor": 2
}
