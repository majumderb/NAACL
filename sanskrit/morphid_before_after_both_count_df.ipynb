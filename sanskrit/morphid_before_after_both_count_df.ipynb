{
 "cells": [
  {
   "cell_type": "code",
   "execution_count": 67,
   "metadata": {},
   "outputs": [],
   "source": [
    "import pandas as pd"
   ]
  },
  {
   "cell_type": "raw",
   "metadata": {},
   "source": [
    "#### Assumptions\n",
    "1. Considering sentences with single verb\n",
    "2. If morhp id is present many times before/after verb count is taken as 1"
   ]
  },
  {
   "cell_type": "code",
   "execution_count": 68,
   "metadata": {},
   "outputs": [
    {
     "data": {
      "text/html": [
       "<div>\n",
       "<style scoped>\n",
       "    .dataframe tbody tr th:only-of-type {\n",
       "        vertical-align: middle;\n",
       "    }\n",
       "\n",
       "    .dataframe tbody tr th {\n",
       "        vertical-align: top;\n",
       "    }\n",
       "\n",
       "    .dataframe thead th {\n",
       "        text-align: right;\n",
       "    }\n",
       "</style>\n",
       "<table border=\"1\" class=\"dataframe\">\n",
       "  <thead>\n",
       "    <tr style=\"text-align: right;\">\n",
       "      <th></th>\n",
       "      <th>Unnamed: 0</th>\n",
       "      <th>sentID</th>\n",
       "      <th>sent</th>\n",
       "      <th>words</th>\n",
       "      <th>countWords</th>\n",
       "      <th>countVerbs</th>\n",
       "      <th>repatingSeq</th>\n",
       "      <th>repatingNouns</th>\n",
       "    </tr>\n",
       "  </thead>\n",
       "  <tbody>\n",
       "    <tr>\n",
       "      <th>0</th>\n",
       "      <td>0</td>\n",
       "      <td>mbh12_26165.xml</td>\n",
       "      <td>n1s,i,x6s,n1s,iic,m3s,n1s,n1s,fut a3s</td>\n",
       "      <td>etat,ca,te,toyam,vaqavAmuKa,saYjYitena,pIyamAn...</td>\n",
       "      <td>9</td>\n",
       "      <td>1</td>\n",
       "      <td>{'n1s': [0, 3, 6, 7]}</td>\n",
       "      <td>{'nominative': [0, 1, 3, 4]}</td>\n",
       "    </tr>\n",
       "    <tr>\n",
       "      <th>2</th>\n",
       "      <td>2</td>\n",
       "      <td>mbh03_14603.xml</td>\n",
       "      <td>iic,f1s,prf a3s</td>\n",
       "      <td>rAja,putrI,uvAca</td>\n",
       "      <td>3</td>\n",
       "      <td>1</td>\n",
       "      <td>{}</td>\n",
       "      <td>{}</td>\n",
       "    </tr>\n",
       "    <tr>\n",
       "      <th>5</th>\n",
       "      <td>5</td>\n",
       "      <td>mbh03_14557.xml</td>\n",
       "      <td>m3p,x1s,ipv[2] a2s,m6s,m1s,m1s,x6s,m1d,i,x6s,m...</td>\n",
       "      <td>tEH,tvam,yAhi,kzatriyasya,eza,vAhaH,mama,vAmyO...</td>\n",
       "      <td>13</td>\n",
       "      <td>1</td>\n",
       "      <td>{'i': [8, 11], 'x6s': [6, 9], 'ipv[2] a2s': [2...</td>\n",
       "      <td>{'nominative': [2, 3, 4, 5]}</td>\n",
       "    </tr>\n",
       "    <tr>\n",
       "      <th>6</th>\n",
       "      <td>6</td>\n",
       "      <td>mbh12_26053.xml</td>\n",
       "      <td>m6s,iic,m7s,iic,m7s,n2p,n2p,m1s,iic,i,n2s,ipf[...</td>\n",
       "      <td>tasya,parama,Atmani,ava,sfte,tAni,asTIni,DAtA,...</td>\n",
       "      <td>12</td>\n",
       "      <td>1</td>\n",
       "      <td>{'m7s': [2, 4], 'n2p': [5, 6], 'iic': [1, 3, 8]}</td>\n",
       "      <td>{'accusative': [3, 4, 6], 'locative': [1, 2]}</td>\n",
       "    </tr>\n",
       "    <tr>\n",
       "      <th>7</th>\n",
       "      <td>7</td>\n",
       "      <td>mbh12_26043.xml</td>\n",
       "      <td>n2s,pre[1] a2s,x4p,iic,i,n2s,n2s,iic,n2s,i</td>\n",
       "      <td>tat,arhasi,naH,vi,DAtum,SreyaH,yat,an,antaram,iti</td>\n",
       "      <td>10</td>\n",
       "      <td>1</td>\n",
       "      <td>{'n2s': [0, 5, 6, 8], 'i': [4, 9], 'iic': [3, 7]}</td>\n",
       "      <td>{'accusative': [0, 1, 2, 3]}</td>\n",
       "    </tr>\n",
       "  </tbody>\n",
       "</table>\n",
       "</div>"
      ],
      "text/plain": [
       "   Unnamed: 0           sentID  \\\n",
       "0           0  mbh12_26165.xml   \n",
       "2           2  mbh03_14603.xml   \n",
       "5           5  mbh03_14557.xml   \n",
       "6           6  mbh12_26053.xml   \n",
       "7           7  mbh12_26043.xml   \n",
       "\n",
       "                                                sent  \\\n",
       "0              n1s,i,x6s,n1s,iic,m3s,n1s,n1s,fut a3s   \n",
       "2                                    iic,f1s,prf a3s   \n",
       "5  m3p,x1s,ipv[2] a2s,m6s,m1s,m1s,x6s,m1d,i,x6s,m...   \n",
       "6  m6s,iic,m7s,iic,m7s,n2p,n2p,m1s,iic,i,n2s,ipf[...   \n",
       "7         n2s,pre[1] a2s,x4p,iic,i,n2s,n2s,iic,n2s,i   \n",
       "\n",
       "                                               words  countWords  countVerbs  \\\n",
       "0  etat,ca,te,toyam,vaqavAmuKa,saYjYitena,pIyamAn...           9           1   \n",
       "2                                   rAja,putrI,uvAca           3           1   \n",
       "5  tEH,tvam,yAhi,kzatriyasya,eza,vAhaH,mama,vAmyO...          13           1   \n",
       "6  tasya,parama,Atmani,ava,sfte,tAni,asTIni,DAtA,...          12           1   \n",
       "7  tat,arhasi,naH,vi,DAtum,SreyaH,yat,an,antaram,iti          10           1   \n",
       "\n",
       "                                         repatingSeq  \\\n",
       "0                              {'n1s': [0, 3, 6, 7]}   \n",
       "2                                                 {}   \n",
       "5  {'i': [8, 11], 'x6s': [6, 9], 'ipv[2] a2s': [2...   \n",
       "6   {'m7s': [2, 4], 'n2p': [5, 6], 'iic': [1, 3, 8]}   \n",
       "7  {'n2s': [0, 5, 6, 8], 'i': [4, 9], 'iic': [3, 7]}   \n",
       "\n",
       "                                   repatingNouns  \n",
       "0                   {'nominative': [0, 1, 3, 4]}  \n",
       "2                                             {}  \n",
       "5                   {'nominative': [2, 3, 4, 5]}  \n",
       "6  {'accusative': [3, 4, 6], 'locative': [1, 2]}  \n",
       "7                   {'accusative': [0, 1, 2, 3]}  "
      ]
     },
     "execution_count": 68,
     "metadata": {},
     "output_type": "execute_result"
    }
   ],
   "source": [
    "maha_pt = pd.read_csv('maha_pt_with_noun_and_verb_count.csv', header=0)\n",
    "verbs = pd.read_csv('verbs.csv', header=0)\n",
    "\n",
    "maha_pt_single_verb = maha_pt[maha_pt.countVerbs == 1]\n",
    "maha_pt_single_verb.head()"
   ]
  },
  {
   "cell_type": "code",
   "execution_count": 69,
   "metadata": {},
   "outputs": [],
   "source": [
    "def get_unique_morphids(list_of_ids):\n",
    "    \n",
    "    final_list  = []\n",
    "    for sent in list_of_ids:\n",
    "        final_list += sent.split(',')\n",
    "    \n",
    "    return set(final_list)\n",
    "\n",
    "\n",
    "unique_morhp_ids = get_unique_morphids(maha_pt_single_verb['sent'].tolist())"
   ]
  },
  {
   "cell_type": "code",
   "execution_count": 70,
   "metadata": {},
   "outputs": [
    {
     "data": {
      "text/plain": [
       "237"
      ]
     },
     "execution_count": 70,
     "metadata": {},
     "output_type": "execute_result"
    }
   ],
   "source": [
    "### unique morhpids\n",
    "len(unique_morhp_ids)"
   ]
  },
  {
   "cell_type": "code",
   "execution_count": 71,
   "metadata": {},
   "outputs": [
    {
     "data": {
      "text/html": [
       "<div>\n",
       "<style scoped>\n",
       "    .dataframe tbody tr th:only-of-type {\n",
       "        vertical-align: middle;\n",
       "    }\n",
       "\n",
       "    .dataframe tbody tr th {\n",
       "        vertical-align: top;\n",
       "    }\n",
       "\n",
       "    .dataframe thead th {\n",
       "        text-align: right;\n",
       "    }\n",
       "</style>\n",
       "<table border=\"1\" class=\"dataframe\">\n",
       "  <thead>\n",
       "    <tr style=\"text-align: right;\">\n",
       "      <th></th>\n",
       "      <th>SL</th>\n",
       "      <th>Desc</th>\n",
       "      <th>UH</th>\n",
       "    </tr>\n",
       "  </thead>\n",
       "  <tbody>\n",
       "    <tr>\n",
       "      <th>0</th>\n",
       "      <td>pre[1] a1s</td>\n",
       "      <td>*present-indicative class1 active first-person...</td>\n",
       "      <td>{kartari;law;u;eka;parasmEpadI;BvAdi;#;}</td>\n",
       "    </tr>\n",
       "    <tr>\n",
       "      <th>1</th>\n",
       "      <td>pre[1] a1d</td>\n",
       "      <td>*present-indicative class1 active first-person...</td>\n",
       "      <td>{kartari;law;u;dvi;parasmEpadI;BvAdi;#;}</td>\n",
       "    </tr>\n",
       "    <tr>\n",
       "      <th>2</th>\n",
       "      <td>pre[1] a1p</td>\n",
       "      <td>*present-indicative class1 active first-person...</td>\n",
       "      <td>{kartari;law;u;bahu;parasmEpadI;BvAdi;#;}</td>\n",
       "    </tr>\n",
       "    <tr>\n",
       "      <th>3</th>\n",
       "      <td>pre[1] a2s</td>\n",
       "      <td>*present-indicative class1 active second-perso...</td>\n",
       "      <td>{kartari;law;ma;eka;parasmEpadI;BvAdi;#;}</td>\n",
       "    </tr>\n",
       "    <tr>\n",
       "      <th>4</th>\n",
       "      <td>pre[1] a2d</td>\n",
       "      <td>*present-indicative class1 active second-perso...</td>\n",
       "      <td>{kartari;law;ma;dvi;parasmEpadI;BvAdi;#;}</td>\n",
       "    </tr>\n",
       "  </tbody>\n",
       "</table>\n",
       "</div>"
      ],
      "text/plain": [
       "           SL                                               Desc  \\\n",
       "0  pre[1] a1s  *present-indicative class1 active first-person...   \n",
       "1  pre[1] a1d  *present-indicative class1 active first-person...   \n",
       "2  pre[1] a1p  *present-indicative class1 active first-person...   \n",
       "3  pre[1] a2s  *present-indicative class1 active second-perso...   \n",
       "4  pre[1] a2d  *present-indicative class1 active second-perso...   \n",
       "\n",
       "                                          UH  \n",
       "0   {kartari;law;u;eka;parasmEpadI;BvAdi;#;}  \n",
       "1   {kartari;law;u;dvi;parasmEpadI;BvAdi;#;}  \n",
       "2  {kartari;law;u;bahu;parasmEpadI;BvAdi;#;}  \n",
       "3  {kartari;law;ma;eka;parasmEpadI;BvAdi;#;}  \n",
       "4  {kartari;law;ma;dvi;parasmEpadI;BvAdi;#;}  "
      ]
     },
     "execution_count": 71,
     "metadata": {},
     "output_type": "execute_result"
    }
   ],
   "source": [
    "### get all the verbs\n",
    "verbs.head()"
   ]
  },
  {
   "cell_type": "code",
   "execution_count": 72,
   "metadata": {},
   "outputs": [
    {
     "data": {
      "text/plain": [
       "72"
      ]
     },
     "execution_count": 72,
     "metadata": {},
     "output_type": "execute_result"
    }
   ],
   "source": [
    "verbs_keys = set(verbs['SL'])\n",
    "morphids_not_verbs = list(unique_morhp_ids - verbs_keys)\n",
    "len(morphids_not_verbs)"
   ]
  },
  {
   "cell_type": "code",
   "execution_count": 73,
   "metadata": {},
   "outputs": [],
   "source": [
    "def get_verb_index(sent):\n",
    "    \n",
    "    verb_value = verbs_keys & set(sent)\n",
    "#     print(verb_value)\n",
    "    return sent.index(list(verb_value)[0])"
   ]
  },
  {
   "cell_type": "code",
   "execution_count": 74,
   "metadata": {},
   "outputs": [
    {
     "data": {
      "text/plain": [
       "8"
      ]
     },
     "execution_count": 74,
     "metadata": {},
     "output_type": "execute_result"
    }
   ],
   "source": [
    "### testing the function\n",
    "get_verb_index(['n1s','i','x6s','n1s','iic','m3s','n1s','n1s','fut a3s'])"
   ]
  },
  {
   "cell_type": "code",
   "execution_count": 75,
   "metadata": {},
   "outputs": [],
   "source": [
    "sentences = maha_pt_single_verb['sent'].tolist() \n",
    "sentences = [sent.split(',') for sent in sentences]\n",
    "\n",
    "final_df = []\n",
    "for morhipd in morphids_not_verbs:\n",
    "    \n",
    "    before_verb_count = 0\n",
    "    after_verb_count = 0\n",
    "    before_and_after_count = 0\n",
    "    \n",
    "    for sent in sentences:\n",
    "        \n",
    "        if morhipd in sent:\n",
    "            \n",
    "            verb_index = get_verb_index(sent)\n",
    "            morhipd_indexs = [i for i, id in enumerate(sent) if id==morhipd]\n",
    "            \n",
    "            temp = map(lambda x: x-verb_index, morhipd_indexs)\n",
    "            #print temp\n",
    "            ### based on the pos and negative values \n",
    "            ##decide if the morhp id is before or after verb\n",
    "            neg_count = sum(1 for number in temp if number < 0)\n",
    "            pos_count = sum(1 for number in temp if number > 0)\n",
    "            \n",
    "            if neg_count > 0:\n",
    "                before_verb_count +=1\n",
    "            elif pos_count > 0:\n",
    "                after_verb_count +=1\n",
    "            \n",
    "            if pos_count > 0 and neg_count > 0:\n",
    "                before_and_after_count +=1\n",
    "            \n",
    "                \n",
    "    final_df.append([morhipd, before_verb_count, after_verb_count, before_and_after_count])"
   ]
  },
  {
   "cell_type": "code",
   "execution_count": 78,
   "metadata": {},
   "outputs": [],
   "source": [
    "final_df = pd.DataFrame(final_df, columns=['morphid', 'before_verb_count', 'after_verb_count', 'both'])"
   ]
  },
  {
   "cell_type": "code",
   "execution_count": 80,
   "metadata": {},
   "outputs": [
    {
     "data": {
      "text/html": [
       "<div>\n",
       "<style scoped>\n",
       "    .dataframe tbody tr th:only-of-type {\n",
       "        vertical-align: middle;\n",
       "    }\n",
       "\n",
       "    .dataframe tbody tr th {\n",
       "        vertical-align: top;\n",
       "    }\n",
       "\n",
       "    .dataframe thead th {\n",
       "        text-align: right;\n",
       "    }\n",
       "</style>\n",
       "<table border=\"1\" class=\"dataframe\">\n",
       "  <thead>\n",
       "    <tr style=\"text-align: right;\">\n",
       "      <th></th>\n",
       "      <th>morphid</th>\n",
       "      <th>before_verb_count</th>\n",
       "      <th>after_verb_count</th>\n",
       "      <th>both</th>\n",
       "    </tr>\n",
       "  </thead>\n",
       "  <tbody>\n",
       "    <tr>\n",
       "      <th>0</th>\n",
       "      <td>n6s</td>\n",
       "      <td>13</td>\n",
       "      <td>3</td>\n",
       "      <td>1</td>\n",
       "    </tr>\n",
       "    <tr>\n",
       "      <th>1</th>\n",
       "      <td>n6p</td>\n",
       "      <td>6</td>\n",
       "      <td>3</td>\n",
       "      <td>0</td>\n",
       "    </tr>\n",
       "    <tr>\n",
       "      <th>2</th>\n",
       "      <td>m3p</td>\n",
       "      <td>1</td>\n",
       "      <td>0</td>\n",
       "      <td>0</td>\n",
       "    </tr>\n",
       "    <tr>\n",
       "      <th>3</th>\n",
       "      <td>m2p</td>\n",
       "      <td>33</td>\n",
       "      <td>6</td>\n",
       "      <td>1</td>\n",
       "    </tr>\n",
       "    <tr>\n",
       "      <th>4</th>\n",
       "      <td>n4s</td>\n",
       "      <td>2</td>\n",
       "      <td>1</td>\n",
       "      <td>0</td>\n",
       "    </tr>\n",
       "  </tbody>\n",
       "</table>\n",
       "</div>"
      ],
      "text/plain": [
       "  morphid  before_verb_count  after_verb_count  both\n",
       "0     n6s                 13                 3     1\n",
       "1     n6p                  6                 3     0\n",
       "2     m3p                  1                 0     0\n",
       "3     m2p                 33                 6     1\n",
       "4     n4s                  2                 1     0"
      ]
     },
     "execution_count": 80,
     "metadata": {},
     "output_type": "execute_result"
    }
   ],
   "source": [
    "final_df.head()"
   ]
  },
  {
   "cell_type": "code",
   "execution_count": 81,
   "metadata": {},
   "outputs": [],
   "source": [
    "final_df.to_csv('morphid_before_after_both_count_df.csv', index=False)"
   ]
  },
  {
   "cell_type": "code",
   "execution_count": null,
   "metadata": {},
   "outputs": [],
   "source": []
  }
 ],
 "metadata": {
  "kernelspec": {
   "display_name": "Python 2",
   "language": "python",
   "name": "python2"
  },
  "language_info": {
   "codemirror_mode": {
    "name": "ipython",
    "version": 2
   },
   "file_extension": ".py",
   "mimetype": "text/x-python",
   "name": "python",
   "nbconvert_exporter": "python",
   "pygments_lexer": "ipython2",
   "version": "2.7.13"
  }
 },
 "nbformat": 4,
 "nbformat_minor": 2
}
