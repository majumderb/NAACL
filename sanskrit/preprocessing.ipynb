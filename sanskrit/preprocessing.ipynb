{
 "cells": [
  {
   "cell_type": "code",
   "execution_count": 2,
   "metadata": {},
   "outputs": [],
   "source": [
    "import pandas as pd\n",
    "\n",
    "maha_pt = pd.read_csv('combined_maha_pt.csv', header=0)\n",
    "nouns = pd.read_csv('nouns.csv', header=0)\n",
    "verbs = pd.read_csv('verbs.csv', header=0)"
   ]
  },
  {
   "cell_type": "code",
   "execution_count": 3,
   "metadata": {},
   "outputs": [],
   "source": [
    "nouns_keys = nouns['SL']\n",
    "nouns_values = nouns['Desc']\n",
    "\n",
    "nouns_dict = dict(zip(nouns_keys, nouns_values))\n",
    "\n",
    "verbs_keys = verbs['SL']\n",
    "verbs_values = verbs['Desc']\n",
    "\n",
    "verbs_dict = dict(zip(verbs_keys, verbs_values))"
   ]
  },
  {
   "cell_type": "code",
   "execution_count": 4,
   "metadata": {},
   "outputs": [],
   "source": [
    "'''returns a dictionary'''\n",
    "\n",
    "def process_repeat_seq(sen):\n",
    "    sen_list = sen.split(',')\n",
    "    unique_token = set(sen_list)\n",
    "    \n",
    "    rep_dict = {}\n",
    "    for token in unique_token:\n",
    "        indices = [i for i, x in enumerate(sen_list) if x == token]\n",
    "        if len(indices) > 1: \n",
    "            rep_dict.update({token: indices})\n",
    "    return rep_dict"
   ]
  },
  {
   "cell_type": "code",
   "execution_count": 5,
   "metadata": {},
   "outputs": [],
   "source": [
    "'''returns True or False'''\n",
    "\n",
    "def count_multiple_verb(sen):\n",
    "    sen_list = sen.split(',')\n",
    "    unique_token = set(sen_list)\n",
    "    verb_list = []\n",
    "    for key in unique_token:\n",
    "        if key in verbs_dict.keys():\n",
    "            verb_list.append(key)\n",
    "    \n",
    "    return len(verb_list)"
   ]
  },
  {
   "cell_type": "code",
   "execution_count": 6,
   "metadata": {},
   "outputs": [],
   "source": [
    "'''returns a dictionary'''\n",
    "\n",
    "def repeat_nouns(sen):\n",
    "    sen_list = sen.split(',')\n",
    "    noun_encoded_list = []\n",
    "    for key in sen_list:\n",
    "        if key in nouns_dict.keys():\n",
    "            noun_encoded_list.append(nouns_dict[key].split()[1])\n",
    "        else: 'NA'\n",
    "    \n",
    "    unique_nouns = set(noun_encoded_list)\n",
    "    \n",
    "    rep_noun_dict = {}\n",
    "    for token in unique_nouns:\n",
    "        if token != 'NA':\n",
    "            indices = [i for i, x in enumerate(noun_encoded_list) if x == token]\n",
    "            if len(indices) > 1: \n",
    "                rep_noun_dict.update({token: indices})\n",
    "    return rep_noun_dict"
   ]
  },
  {
   "cell_type": "code",
   "execution_count": 7,
   "metadata": {},
   "outputs": [],
   "source": [
    "def count_words(sen):\n",
    "    sen_list = sen.split(',')\n",
    "    return len(sen_list)"
   ]
  },
  {
   "cell_type": "code",
   "execution_count": 8,
   "metadata": {},
   "outputs": [],
   "source": [
    "maha_pt['countWords'] = maha_pt['sent'].apply(count_words)"
   ]
  },
  {
   "cell_type": "markdown",
   "metadata": {},
   "source": [
    "Task1 -  multiple verb\n",
    "\n",
    "format: [no_of_verbs]"
   ]
  },
  {
   "cell_type": "code",
   "execution_count": 9,
   "metadata": {},
   "outputs": [],
   "source": [
    "maha_pt['countVerbs'] = maha_pt['sent'].apply(count_multiple_verb)"
   ]
  },
  {
   "cell_type": "markdown",
   "metadata": {},
   "source": [
    "Task2 -  repeating seq\n",
    "\n",
    "format: [dicttionary{token1: list of indeces, token2: list of indices}]"
   ]
  },
  {
   "cell_type": "code",
   "execution_count": 10,
   "metadata": {},
   "outputs": [],
   "source": [
    "maha_pt['repatingSeq'] = maha_pt['sent'].apply(process_repeat_seq)"
   ]
  },
  {
   "cell_type": "markdown",
   "metadata": {},
   "source": [
    "Task3 -  repeating nouns\n",
    "\n",
    "format: [dicttionary{case1: list of indeces, case2: list of indices}]"
   ]
  },
  {
   "cell_type": "code",
   "execution_count": 11,
   "metadata": {},
   "outputs": [],
   "source": [
    "maha_pt['repatingNouns'] = maha_pt['sent'].apply(repeat_nouns)"
   ]
  },
  {
   "cell_type": "code",
   "execution_count": 12,
   "metadata": {},
   "outputs": [
    {
     "data": {
      "text/html": [
       "<div>\n",
       "<style scoped>\n",
       "    .dataframe tbody tr th:only-of-type {\n",
       "        vertical-align: middle;\n",
       "    }\n",
       "\n",
       "    .dataframe tbody tr th {\n",
       "        vertical-align: top;\n",
       "    }\n",
       "\n",
       "    .dataframe thead th {\n",
       "        text-align: right;\n",
       "    }\n",
       "</style>\n",
       "<table border=\"1\" class=\"dataframe\">\n",
       "  <thead>\n",
       "    <tr style=\"text-align: right;\">\n",
       "      <th></th>\n",
       "      <th>sentID</th>\n",
       "      <th>sent</th>\n",
       "      <th>words</th>\n",
       "      <th>countWords</th>\n",
       "      <th>countVerbs</th>\n",
       "      <th>repatingSeq</th>\n",
       "      <th>repatingNouns</th>\n",
       "    </tr>\n",
       "  </thead>\n",
       "  <tbody>\n",
       "    <tr>\n",
       "      <th>0</th>\n",
       "      <td>mbh12_26165.xml</td>\n",
       "      <td>n1s,i,x6s,n1s,iic,m3s,n1s,n1s,fut a3s</td>\n",
       "      <td>etat,ca,te,toyam,vaqavAmuKa,saYjYitena,pIyamAn...</td>\n",
       "      <td>9</td>\n",
       "      <td>1</td>\n",
       "      <td>{u'n1s': [0, 3, 6, 7]}</td>\n",
       "      <td>{u'nominative': [0, 1, 3, 4]}</td>\n",
       "    </tr>\n",
       "    <tr>\n",
       "      <th>1</th>\n",
       "      <td>mbh03_14648.xml</td>\n",
       "      <td>n2s,i,m1s,m1s,n5s,n5s,iic,i,i,ipf[1] a3s,i,pre...</td>\n",
       "      <td>etat,SrutvA,sa,kacCapaH,tasmAt,sarasaH,ut,TAya...</td>\n",
       "      <td>16</td>\n",
       "      <td>2</td>\n",
       "      <td>{u'i': [1, 7, 8, 10], u'm1s': [2, 3], u'n6s': ...</td>\n",
       "      <td>{u'genitive': [5, 6], u'ablative': [3, 4], u'n...</td>\n",
       "    </tr>\n",
       "    <tr>\n",
       "      <th>2</th>\n",
       "      <td>mbh03_14603.xml</td>\n",
       "      <td>iic,f1s,prf a3s</td>\n",
       "      <td>rAja,putrI,uvAca</td>\n",
       "      <td>3</td>\n",
       "      <td>1</td>\n",
       "      <td>{}</td>\n",
       "      <td>{}</td>\n",
       "    </tr>\n",
       "    <tr>\n",
       "      <th>3</th>\n",
       "      <td>mbh12_26044.xml</td>\n",
       "      <td>m2p,m1s,prf a3s,m1s,m1s,n2s,pre[4] m3s,m1s</td>\n",
       "      <td>tAn,brahma,uvAca,fziH,BArgavaH,tapaH,tapyate,d...</td>\n",
       "      <td>8</td>\n",
       "      <td>2</td>\n",
       "      <td>{u'm1s': [1, 3, 4, 7]}</td>\n",
       "      <td>{u'accusative': [0, 4], u'nominative': [1, 2, ...</td>\n",
       "    </tr>\n",
       "    <tr>\n",
       "      <th>4</th>\n",
       "      <td>mbh03_14642.xml</td>\n",
       "      <td>m1s,x2p,ipf[2] a3s,pre[2] a3s,i,i,i,n7s,m1s,n1...</td>\n",
       "      <td>sa,naH,abravIt,asti,Kalu,iha,eva,sarasi,akUpar...</td>\n",
       "      <td>13</td>\n",
       "      <td>3</td>\n",
       "      <td>{u'i': [4, 5, 6, 11], u'm1s': [0, 8, 10]}</td>\n",
       "      <td>{u'nominative': [0, 2, 3, 4]}</td>\n",
       "    </tr>\n",
       "  </tbody>\n",
       "</table>\n",
       "</div>"
      ],
      "text/plain": [
       "            sentID                                               sent  \\\n",
       "0  mbh12_26165.xml              n1s,i,x6s,n1s,iic,m3s,n1s,n1s,fut a3s   \n",
       "1  mbh03_14648.xml  n2s,i,m1s,m1s,n5s,n5s,iic,i,i,ipf[1] a3s,i,pre...   \n",
       "2  mbh03_14603.xml                                    iic,f1s,prf a3s   \n",
       "3  mbh12_26044.xml         m2p,m1s,prf a3s,m1s,m1s,n2s,pre[4] m3s,m1s   \n",
       "4  mbh03_14642.xml  m1s,x2p,ipf[2] a3s,pre[2] a3s,i,i,i,n7s,m1s,n1...   \n",
       "\n",
       "                                               words  countWords  countVerbs  \\\n",
       "0  etat,ca,te,toyam,vaqavAmuKa,saYjYitena,pIyamAn...           9           1   \n",
       "1  etat,SrutvA,sa,kacCapaH,tasmAt,sarasaH,ut,TAya...          16           2   \n",
       "2                                   rAja,putrI,uvAca           3           1   \n",
       "3  tAn,brahma,uvAca,fziH,BArgavaH,tapaH,tapyate,d...           8           2   \n",
       "4  sa,naH,abravIt,asti,Kalu,iha,eva,sarasi,akUpar...          13           3   \n",
       "\n",
       "                                         repatingSeq  \\\n",
       "0                             {u'n1s': [0, 3, 6, 7]}   \n",
       "1  {u'i': [1, 7, 8, 10], u'm1s': [2, 3], u'n6s': ...   \n",
       "2                                                 {}   \n",
       "3                             {u'm1s': [1, 3, 4, 7]}   \n",
       "4          {u'i': [4, 5, 6, 11], u'm1s': [0, 8, 10]}   \n",
       "\n",
       "                                       repatingNouns  \n",
       "0                      {u'nominative': [0, 1, 3, 4]}  \n",
       "1  {u'genitive': [5, 6], u'ablative': [3, 4], u'n...  \n",
       "2                                                 {}  \n",
       "3  {u'accusative': [0, 4], u'nominative': [1, 2, ...  \n",
       "4                      {u'nominative': [0, 2, 3, 4]}  "
      ]
     },
     "execution_count": 12,
     "metadata": {},
     "output_type": "execute_result"
    }
   ],
   "source": [
    "workingdf = maha_pt[maha_pt['countWords'] > 2 ]\n",
    "workingdf.head()"
   ]
  },
  {
   "cell_type": "code",
   "execution_count": 13,
   "metadata": {},
   "outputs": [],
   "source": [
    "workingdf.to_csv('maha_pt_with_noun_and_verb_count.csv')"
   ]
  },
  {
   "cell_type": "code",
   "execution_count": null,
   "metadata": {},
   "outputs": [],
   "source": []
  }
 ],
 "metadata": {
  "kernelspec": {
   "display_name": "Python 2",
   "language": "python",
   "name": "python2"
  },
  "language_info": {
   "codemirror_mode": {
    "name": "ipython",
    "version": 2
   },
   "file_extension": ".py",
   "mimetype": "text/x-python",
   "name": "python",
   "nbconvert_exporter": "python",
   "pygments_lexer": "ipython2",
   "version": "2.7.13"
  }
 },
 "nbformat": 4,
 "nbformat_minor": 2
}
