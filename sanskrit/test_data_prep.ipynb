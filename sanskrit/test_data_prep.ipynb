{
 "cells": [
  {
   "cell_type": "code",
   "execution_count": 1,
   "metadata": {
    "collapsed": false
   },
   "outputs": [],
   "source": [
    "from tqdm import tqdm\n",
    "import random\n",
    "import numpy as np"
   ]
  },
  {
   "cell_type": "code",
   "execution_count": 2,
   "metadata": {
    "collapsed": true
   },
   "outputs": [],
   "source": [
    "class unique_element:\n",
    "    def __init__(self,value,occurrences):\n",
    "        self.value = value\n",
    "        self.occurrences = occurrences"
   ]
  },
  {
   "cell_type": "code",
   "execution_count": 3,
   "metadata": {
    "collapsed": true
   },
   "outputs": [],
   "source": [
    "def perm_unique(elements):\n",
    "    eset=set(elements)\n",
    "    listunique = [unique_element(i,elements.count(i)) for i in eset]\n",
    "    u=len(elements)\n",
    "    return perm_unique_helper(listunique,[0]*u,u-1)"
   ]
  },
  {
   "cell_type": "code",
   "execution_count": 4,
   "metadata": {
    "collapsed": true
   },
   "outputs": [],
   "source": [
    "def perm_unique_helper(listunique, result_list, d):\n",
    "    if d < 0:\n",
    "        yield tuple(result_list)\n",
    "    else:\n",
    "        for i in listunique:\n",
    "            if i.occurrences > 0:\n",
    "                result_list[d]=i.value\n",
    "                i.occurrences-=1\n",
    "                for g in  perm_unique_helper(listunique,result_list,d-1):\n",
    "                    yield g\n",
    "                i.occurrences+=1\n"
   ]
  },
  {
   "cell_type": "code",
   "execution_count": 5,
   "metadata": {
    "collapsed": false
   },
   "outputs": [
    {
     "name": "stdout",
     "output_type": "stream",
     "text": [
      "[(2, 1, 1), (1, 2, 1), (1, 1, 2)]\n"
     ]
    }
   ],
   "source": [
    "a = list(perm_unique([1,1,2]))\n",
    "print(a)"
   ]
  },
  {
   "cell_type": "code",
   "execution_count": 6,
   "metadata": {
    "collapsed": true
   },
   "outputs": [],
   "source": [
    "fp = open('final_data_test.txt', 'r')\n",
    "file_content = fp.readlines()"
   ]
  },
  {
   "cell_type": "code",
   "execution_count": 7,
   "metadata": {
    "collapsed": false
   },
   "outputs": [
    {
     "data": {
      "text/plain": [
       "['nominative', 'nominative', 'i', 'nominative', 'nominative', 'head']"
      ]
     },
     "execution_count": 7,
     "metadata": {},
     "output_type": "execute_result"
    }
   ],
   "source": [
    "###sample\n",
    "file_content[1].strip().split()"
   ]
  },
  {
   "cell_type": "code",
   "execution_count": 8,
   "metadata": {
    "collapsed": false
   },
   "outputs": [
    {
     "name": "stdout",
     "output_type": "stream",
     "text": [
      "[('nominative', 'nominative', 'nominative', 'nominative', 'head', 'i'), ('nominative', 'nominative', 'nominative', 'head', 'nominative', 'i'), ('nominative', 'nominative', 'head', 'nominative', 'nominative', 'i'), ('nominative', 'head', 'nominative', 'nominative', 'nominative', 'i'), ('head', 'nominative', 'nominative', 'nominative', 'nominative', 'i'), ('nominative', 'nominative', 'nominative', 'nominative', 'i', 'head'), ('nominative', 'nominative', 'nominative', 'i', 'nominative', 'head'), ('nominative', 'nominative', 'i', 'nominative', 'nominative', 'head'), ('nominative', 'i', 'nominative', 'nominative', 'nominative', 'head'), ('i', 'nominative', 'nominative', 'nominative', 'nominative', 'head'), ('nominative', 'nominative', 'nominative', 'head', 'i', 'nominative'), ('nominative', 'nominative', 'head', 'nominative', 'i', 'nominative'), ('nominative', 'head', 'nominative', 'nominative', 'i', 'nominative'), ('head', 'nominative', 'nominative', 'nominative', 'i', 'nominative'), ('nominative', 'nominative', 'nominative', 'i', 'head', 'nominative'), ('nominative', 'nominative', 'i', 'nominative', 'head', 'nominative'), ('nominative', 'i', 'nominative', 'nominative', 'head', 'nominative'), ('i', 'nominative', 'nominative', 'nominative', 'head', 'nominative'), ('nominative', 'nominative', 'head', 'i', 'nominative', 'nominative'), ('nominative', 'head', 'nominative', 'i', 'nominative', 'nominative'), ('head', 'nominative', 'nominative', 'i', 'nominative', 'nominative'), ('nominative', 'nominative', 'i', 'head', 'nominative', 'nominative'), ('nominative', 'i', 'nominative', 'head', 'nominative', 'nominative'), ('i', 'nominative', 'nominative', 'head', 'nominative', 'nominative'), ('nominative', 'head', 'i', 'nominative', 'nominative', 'nominative'), ('head', 'nominative', 'i', 'nominative', 'nominative', 'nominative'), ('nominative', 'i', 'head', 'nominative', 'nominative', 'nominative'), ('i', 'nominative', 'head', 'nominative', 'nominative', 'nominative'), ('head', 'i', 'nominative', 'nominative', 'nominative', 'nominative'), ('i', 'head', 'nominative', 'nominative', 'nominative', 'nominative')]\n"
     ]
    }
   ],
   "source": [
    "a = list(perm_unique(file_content[1].strip().split()))\n",
    "print(a)"
   ]
  },
  {
   "cell_type": "code",
   "execution_count": 28,
   "metadata": {
    "collapsed": false
   },
   "outputs": [
    {
     "name": "stderr",
     "output_type": "stream",
     "text": [
      "200it [00:02, 83.29it/s]\n"
     ]
    }
   ],
   "source": [
    "count_dict = {}\n",
    "for i, line in tqdm(enumerate(file_content)):\n",
    "    \n",
    "    line  = line.strip()\n",
    "    \n",
    "    if len(line.split()) > 8:\n",
    "        permutations = []\n",
    "        \n",
    "        while len(permutations) <= 800:            \n",
    "            permutation = np.random.permutation(line.split())\n",
    "            permutation_string = ' '.join(permutation)\n",
    "            \n",
    "            ### make sure permutations are not repeated\n",
    "            if permutation_string not in permutations:\n",
    "                permutations.append(permutation_string)\n",
    "            \n",
    "        if line not in permutations:\n",
    "            permutations.append(line)\n",
    "        \n",
    "    else:\n",
    "        \n",
    "        permutations = list(perm_unique(line.split()))\n",
    "        permutations = [' '.join(perm) for perm in permutations]\n",
    "\n",
    "    count_dict['test_'+str(i)+'.dat'] = len(permutations)\n",
    "    \n",
    "    thefile = open('test_files/test_'+str(i)+'.dat', 'w')\n",
    "    \n",
    "    for perm in permutations:\n",
    "        thefile.write(\"%s\\n\" % perm)\n",
    "    \n",
    "    thefile.close()"
   ]
  },
  {
   "cell_type": "code",
   "execution_count": 21,
   "metadata": {
    "collapsed": true
   },
   "outputs": [],
   "source": [
    "import pandas as pd"
   ]
  },
  {
   "cell_type": "code",
   "execution_count": 29,
   "metadata": {
    "collapsed": false
   },
   "outputs": [],
   "source": [
    "df = pd.DataFrame(count_dict.items())"
   ]
  },
  {
   "cell_type": "code",
   "execution_count": 30,
   "metadata": {
    "collapsed": true
   },
   "outputs": [],
   "source": [
    "df.to_csv('count.csv')"
   ]
  },
  {
   "cell_type": "code",
   "execution_count": null,
   "metadata": {
    "collapsed": true
   },
   "outputs": [],
   "source": []
  }
 ],
 "metadata": {
  "anaconda-cloud": {},
  "kernelspec": {
   "display_name": "Python [default]",
   "language": "python",
   "name": "python2"
  },
  "language_info": {
   "codemirror_mode": {
    "name": "ipython",
    "version": 2
   },
   "file_extension": ".py",
   "mimetype": "text/x-python",
   "name": "python",
   "nbconvert_exporter": "python",
   "pygments_lexer": "ipython2",
   "version": "2.7.12"
  }
 },
 "nbformat": 4,
 "nbformat_minor": 1
}
